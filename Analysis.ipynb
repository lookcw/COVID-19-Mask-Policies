{
 "cells": [
  {
   "cell_type": "code",
   "execution_count": 1,
   "metadata": {},
   "outputs": [],
   "source": [
    "import pandas as pd\n",
    "import numpy as np\n",
    "import matplotlib.pyplot as plt\n",
    "import datetime as dt\n",
    "from dateutil.relativedelta import relativedelta\n",
    "from scipy.stats import ttest_rel "
   ]
  },
  {
   "cell_type": "code",
   "execution_count": 2,
   "metadata": {},
   "outputs": [
    {
     "data": {
      "text/html": [
       "<div>\n",
       "<style scoped>\n",
       "    .dataframe tbody tr th:only-of-type {\n",
       "        vertical-align: middle;\n",
       "    }\n",
       "\n",
       "    .dataframe tbody tr th {\n",
       "        vertical-align: top;\n",
       "    }\n",
       "\n",
       "    .dataframe thead th {\n",
       "        text-align: right;\n",
       "    }\n",
       "</style>\n",
       "<table border=\"1\" class=\"dataframe\">\n",
       "  <thead>\n",
       "    <tr style=\"text-align: right;\">\n",
       "      <th></th>\n",
       "      <th>date</th>\n",
       "      <th>county</th>\n",
       "      <th>state</th>\n",
       "      <th>fips</th>\n",
       "      <th>cases</th>\n",
       "      <th>deaths</th>\n",
       "    </tr>\n",
       "  </thead>\n",
       "  <tbody>\n",
       "    <tr>\n",
       "      <th>0</th>\n",
       "      <td>2020-01-21</td>\n",
       "      <td>Snohomish</td>\n",
       "      <td>Washington</td>\n",
       "      <td>53061.0</td>\n",
       "      <td>1</td>\n",
       "      <td>0</td>\n",
       "    </tr>\n",
       "    <tr>\n",
       "      <th>1</th>\n",
       "      <td>2020-01-22</td>\n",
       "      <td>Snohomish</td>\n",
       "      <td>Washington</td>\n",
       "      <td>53061.0</td>\n",
       "      <td>1</td>\n",
       "      <td>0</td>\n",
       "    </tr>\n",
       "    <tr>\n",
       "      <th>2</th>\n",
       "      <td>2020-01-23</td>\n",
       "      <td>Snohomish</td>\n",
       "      <td>Washington</td>\n",
       "      <td>53061.0</td>\n",
       "      <td>1</td>\n",
       "      <td>0</td>\n",
       "    </tr>\n",
       "    <tr>\n",
       "      <th>3</th>\n",
       "      <td>2020-01-24</td>\n",
       "      <td>Cook</td>\n",
       "      <td>Illinois</td>\n",
       "      <td>17031.0</td>\n",
       "      <td>1</td>\n",
       "      <td>0</td>\n",
       "    </tr>\n",
       "    <tr>\n",
       "      <th>4</th>\n",
       "      <td>2020-01-24</td>\n",
       "      <td>Snohomish</td>\n",
       "      <td>Washington</td>\n",
       "      <td>53061.0</td>\n",
       "      <td>1</td>\n",
       "      <td>0</td>\n",
       "    </tr>\n",
       "  </tbody>\n",
       "</table>\n",
       "</div>"
      ],
      "text/plain": [
       "         date     county       state     fips  cases  deaths\n",
       "0  2020-01-21  Snohomish  Washington  53061.0      1       0\n",
       "1  2020-01-22  Snohomish  Washington  53061.0      1       0\n",
       "2  2020-01-23  Snohomish  Washington  53061.0      1       0\n",
       "3  2020-01-24       Cook    Illinois  17031.0      1       0\n",
       "4  2020-01-24  Snohomish  Washington  53061.0      1       0"
      ]
     },
     "execution_count": 2,
     "metadata": {},
     "output_type": "execute_result"
    }
   ],
   "source": [
    "## Reading data\n",
    "RAW_COUNTIES_FILENAME = 'us-counties.csv'\n",
    "POLICIES_FILENAME = 'earliestpolicy_08042020.csv'\n",
    "raw_counties = pd.read_csv(RAW_COUNTIES_FILENAME)\n",
    "raw_policies = pd.read_csv(POLICIES_FILENAME)[['fips','policy_date']]\n",
    "raw_counties.head()"
   ]
  },
  {
   "cell_type": "code",
   "execution_count": 3,
   "metadata": {},
   "outputs": [],
   "source": [
    "## Calculating R0 values\n",
    "raw_counties['date'] = pd.to_datetime(raw_counties['date'])\n",
    "sorted_counties = raw_counties.sort_values(by=['county','state','date'])\n",
    "sorted_counties['new_cases'] = sorted_counties['cases'].diff() \n",
    "diff_mask = (sorted_counties['county'] != sorted_counties['county'].shift(1)) & (sorted_counties['state'] != sorted_counties['state'].shift(1))\n",
    "sorted_counties['new_cases'] = sorted_counties['new_cases'].where(~diff_mask, np.nan)\n",
    "sorted_counties['R0']= sorted_counties.new_cases / sorted_counties.new_cases.shift()\n",
    "sorted_counties = sorted_counties.drop(columns=['deaths','cases'])"
   ]
  },
  {
   "cell_type": "code",
   "execution_count": 4,
   "metadata": {},
   "outputs": [],
   "source": [
    "## Making fips to policy date dictionary\n",
    "policy_dates = [dt.datetime.strptime(date,'%m-%d-%Y') if isinstance(date,str) else None for date in  raw_policies.policy_date ]\n",
    "fips_2_dates = dict(zip(raw_policies.fips,policy_dates))\n",
    "sorted_counties['policy_date']= sorted_counties['fips'].map(fips_2_dates)"
   ]
  },
  {
   "cell_type": "code",
   "execution_count": 5,
   "metadata": {},
   "outputs": [],
   "source": [
    "## Creating before and after mandate dataframes\n",
    "sorted_counties = sorted_counties.dropna()\n",
    "after_mandate = sorted_counties[sorted_counties.apply(lambda x: x['date'] > x['policy_date'] + relativedelta(days=+14) and x['date'] < x['policy_date'] + relativedelta(days=+44), axis=1)] \\\n",
    ".replace([np.inf, -np.inf], np.nan).dropna()\n",
    "before_mandate = sorted_counties[sorted_counties.apply(lambda x: x['date'] < x['policy_date'] and x['date'] > x['policy_date'] + relativedelta(days=-30), axis=1)] \\\n",
    ".replace([np.inf, -np.inf], np.nan).dropna()\n"
   ]
  },
  {
   "cell_type": "code",
   "execution_count": 6,
   "metadata": {},
   "outputs": [
    {
     "name": "stdout",
     "output_type": "stream",
     "text": [
      "             date     county           state     fips  new_cases        R0  \\\n",
      "94585  2020-04-27  Abbeville  South Carolina  45001.0        2.0  0.666667   \n",
      "97424  2020-04-28  Abbeville  South Carolina  45001.0        0.0  0.000000   \n",
      "105989 2020-05-01  Abbeville  South Carolina  45001.0        0.0  0.000000   \n",
      "114612 2020-05-04  Abbeville  South Carolina  45001.0        0.0  0.000000   \n",
      "126491 2020-05-08  Abbeville  South Carolina  45001.0        0.0  0.000000   \n",
      "...           ...        ...             ...      ...        ...       ...   \n",
      "274148 2020-06-25     Zavala           Texas  48507.0        1.0  0.500000   \n",
      "277297 2020-06-26     Zavala           Texas  48507.0        1.0  1.000000   \n",
      "280446 2020-06-27     Zavala           Texas  48507.0        1.0  1.000000   \n",
      "283594 2020-06-28     Zavala           Texas  48507.0        0.0  0.000000   \n",
      "293048 2020-07-01     Zavala           Texas  48507.0        0.0  0.000000   \n",
      "\n",
      "       policy_date  \n",
      "94585   2020-05-26  \n",
      "97424   2020-05-26  \n",
      "105989  2020-05-26  \n",
      "114612  2020-05-26  \n",
      "126491  2020-05-26  \n",
      "...            ...  \n",
      "274148  2020-07-02  \n",
      "277297  2020-07-02  \n",
      "280446  2020-07-02  \n",
      "283594  2020-07-02  \n",
      "293048  2020-07-02  \n",
      "\n",
      "[34463 rows x 7 columns]\n",
      "             date     county           state     fips  new_cases        R0  \\\n",
      "226921 2020-06-10  Abbeville  South Carolina  45001.0        0.0  0.000000   \n",
      "233133 2020-06-12  Abbeville  South Carolina  45001.0       -1.0 -0.333333   \n",
      "236239 2020-06-13  Abbeville  South Carolina  45001.0        1.0 -1.000000   \n",
      "239348 2020-06-14  Abbeville  South Carolina  45001.0        4.0  4.000000   \n",
      "242458 2020-06-15  Abbeville  South Carolina  45001.0        3.0  0.750000   \n",
      "...           ...        ...             ...      ...        ...       ...   \n",
      "401704 2020-08-04     Zavala           Texas  48507.0       12.0  0.666667   \n",
      "404922 2020-08-05     Zavala           Texas  48507.0        0.0  0.000000   \n",
      "414581 2020-08-08     Zavala           Texas  48507.0        0.0  0.000000   \n",
      "427468 2020-08-12     Zavala           Texas  48507.0        0.0  0.000000   \n",
      "433921 2020-08-14     Zavala           Texas  48507.0        1.0  0.500000   \n",
      "\n",
      "       policy_date  \n",
      "226921  2020-05-26  \n",
      "233133  2020-05-26  \n",
      "236239  2020-05-26  \n",
      "239348  2020-05-26  \n",
      "242458  2020-05-26  \n",
      "...            ...  \n",
      "401704  2020-07-02  \n",
      "404922  2020-07-02  \n",
      "414581  2020-07-02  \n",
      "427468  2020-07-02  \n",
      "433921  2020-07-02  \n",
      "\n",
      "[41573 rows x 7 columns]\n"
     ]
    }
   ],
   "source": [
    "print(before_mandate)\n",
    "print(after_mandate)"
   ]
  },
  {
   "cell_type": "code",
   "execution_count": 16,
   "metadata": {},
   "outputs": [
    {
     "name": "stdout",
     "output_type": "stream",
     "text": [
      "2039\n",
      "1989\n"
     ]
    }
   ],
   "source": [
    "after_mandate_avg = after_mandate.drop(columns=['date','policy_date']).groupby(['state','county','fips']).mean()\n",
    "before_mandate_avg = before_mandate.drop(columns=['date','policy_date']).groupby(['state','county','fips']).mean()\n",
    "print(len(after_mandate_avg))\n",
    "print(len(before_mandate_avg))"
   ]
  },
  {
   "cell_type": "code",
   "execution_count": 36,
   "metadata": {},
   "outputs": [],
   "source": [
    "condensed = pd.merge(before_mandate_avg,after_mandate_avg,how='inner',on=['state','county','fips'],suffixes=('_b','_a')).dropna()\n",
    "pd.options.display.max_colwidth = 500\n",
    "condensed = condensed[(condensed['new_cases_b'] > 40) & (condensed['new_cases_a'] > 40)]"
   ]
  },
  {
   "cell_type": "code",
   "execution_count": 37,
   "metadata": {},
   "outputs": [
    {
     "name": "stdout",
     "output_type": "stream",
     "text": [
      "                                   new_cases_b      R0_b  new_cases_a  \\\n",
      "state      county         fips                                          \n",
      "Alabama    Jefferson      1073.0     67.206897  1.331326   226.275862   \n",
      "           Mobile         1097.0     47.586207  2.408474   188.482759   \n",
      "           Montgomery     1101.0     72.655172  1.143797    75.689655   \n",
      "           Tuscaloosa     1125.0     40.103448  1.632649    57.206897   \n",
      "Arizona    Maricopa       4013.0    626.344828  1.383642  2084.482759   \n",
      "...                                        ...       ...          ...   \n",
      "Virginia   Prince William 51153.0   123.392857  1.114370    45.862069   \n",
      "Washington King           53033.0    83.344828  0.884806    69.103448   \n",
      "           Yakima         53077.0   118.583333  1.000282    78.346154   \n",
      "Wisconsin  Dane           55025.0    71.448276  1.381387    44.517241   \n",
      "           Milwaukee      55079.0   154.827586  1.107440   175.655172   \n",
      "\n",
      "                                       R0_a  \n",
      "state      county         fips               \n",
      "Alabama    Jefferson      1073.0   1.025674  \n",
      "           Mobile         1097.0   1.233798  \n",
      "           Montgomery     1101.0   1.249341  \n",
      "           Tuscaloosa     1125.0   1.221550  \n",
      "Arizona    Maricopa       4013.0   1.047821  \n",
      "...                                     ...  \n",
      "Virginia   Prince William 51153.0  1.613310  \n",
      "Washington King           53033.0  1.175338  \n",
      "           Yakima         53077.0  1.119326  \n",
      "Wisconsin  Dane           55025.0  1.230935  \n",
      "           Milwaukee      55079.0  1.206609  \n",
      "\n",
      "[135 rows x 4 columns]\n"
     ]
    }
   ],
   "source": [
    "print(condensed)"
   ]
  },
  {
   "cell_type": "code",
   "execution_count": 38,
   "metadata": {},
   "outputs": [
    {
     "data": {
      "text/plain": [
       "Ttest_relResult(statistic=3.7065599896479533, pvalue=0.00030642543493743994)"
      ]
     },
     "execution_count": 38,
     "metadata": {},
     "output_type": "execute_result"
    }
   ],
   "source": [
    "ttest_rel(condensed['R0_b'], condensed['R0_a'])"
   ]
  },
  {
   "cell_type": "code",
   "execution_count": 39,
   "metadata": {},
   "outputs": [
    {
     "name": "stdout",
     "output_type": "stream",
     "text": [
      "R0_b    1.373674\n",
      "R0_a    1.157741\n",
      "dtype: float64\n"
     ]
    }
   ],
   "source": [
    "print(condensed[['R0_b','R0_a']].mean())"
   ]
  },
  {
   "cell_type": "code",
   "execution_count": null,
   "metadata": {},
   "outputs": [],
   "source": []
  }
 ],
 "metadata": {
  "kernelspec": {
   "display_name": "Python 3",
   "language": "python",
   "name": "python3"
  },
  "language_info": {
   "codemirror_mode": {
    "name": "ipython",
    "version": 3
   },
   "file_extension": ".py",
   "mimetype": "text/x-python",
   "name": "python",
   "nbconvert_exporter": "python",
   "pygments_lexer": "ipython3",
   "version": "3.8.5"
  }
 },
 "nbformat": 4,
 "nbformat_minor": 4
}
