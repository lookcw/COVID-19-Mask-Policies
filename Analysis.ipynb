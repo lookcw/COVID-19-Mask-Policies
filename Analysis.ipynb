{
 "cells": [
  {
   "cell_type": "code",
   "execution_count": 65,
   "metadata": {},
   "outputs": [],
   "source": [
    "import pandas as pd\n",
    "import numpy as np\n",
    "import matplotlib.pyplot as plt\n",
    "import datetime as dt\n",
    "from dateutil.relativedelta import relativedelta\n",
    "from scipy.stats import ttest_rel "
   ]
  },
  {
   "cell_type": "code",
   "execution_count": 66,
   "metadata": {},
   "outputs": [
    {
     "data": {
      "text/html": [
       "<div>\n",
       "<style scoped>\n",
       "    .dataframe tbody tr th:only-of-type {\n",
       "        vertical-align: middle;\n",
       "    }\n",
       "\n",
       "    .dataframe tbody tr th {\n",
       "        vertical-align: top;\n",
       "    }\n",
       "\n",
       "    .dataframe thead th {\n",
       "        text-align: right;\n",
       "    }\n",
       "</style>\n",
       "<table border=\"1\" class=\"dataframe\">\n",
       "  <thead>\n",
       "    <tr style=\"text-align: right;\">\n",
       "      <th></th>\n",
       "      <th>date</th>\n",
       "      <th>county</th>\n",
       "      <th>state</th>\n",
       "      <th>fips</th>\n",
       "      <th>cases</th>\n",
       "      <th>deaths</th>\n",
       "    </tr>\n",
       "  </thead>\n",
       "  <tbody>\n",
       "    <tr>\n",
       "      <th>0</th>\n",
       "      <td>2020-01-21</td>\n",
       "      <td>Snohomish</td>\n",
       "      <td>Washington</td>\n",
       "      <td>53061.0</td>\n",
       "      <td>1</td>\n",
       "      <td>0</td>\n",
       "    </tr>\n",
       "    <tr>\n",
       "      <th>1</th>\n",
       "      <td>2020-01-22</td>\n",
       "      <td>Snohomish</td>\n",
       "      <td>Washington</td>\n",
       "      <td>53061.0</td>\n",
       "      <td>1</td>\n",
       "      <td>0</td>\n",
       "    </tr>\n",
       "    <tr>\n",
       "      <th>2</th>\n",
       "      <td>2020-01-23</td>\n",
       "      <td>Snohomish</td>\n",
       "      <td>Washington</td>\n",
       "      <td>53061.0</td>\n",
       "      <td>1</td>\n",
       "      <td>0</td>\n",
       "    </tr>\n",
       "    <tr>\n",
       "      <th>3</th>\n",
       "      <td>2020-01-24</td>\n",
       "      <td>Cook</td>\n",
       "      <td>Illinois</td>\n",
       "      <td>17031.0</td>\n",
       "      <td>1</td>\n",
       "      <td>0</td>\n",
       "    </tr>\n",
       "    <tr>\n",
       "      <th>4</th>\n",
       "      <td>2020-01-24</td>\n",
       "      <td>Snohomish</td>\n",
       "      <td>Washington</td>\n",
       "      <td>53061.0</td>\n",
       "      <td>1</td>\n",
       "      <td>0</td>\n",
       "    </tr>\n",
       "  </tbody>\n",
       "</table>\n",
       "</div>"
      ],
      "text/plain": [
       "         date     county       state     fips  cases  deaths\n",
       "0  2020-01-21  Snohomish  Washington  53061.0      1       0\n",
       "1  2020-01-22  Snohomish  Washington  53061.0      1       0\n",
       "2  2020-01-23  Snohomish  Washington  53061.0      1       0\n",
       "3  2020-01-24       Cook    Illinois  17031.0      1       0\n",
       "4  2020-01-24  Snohomish  Washington  53061.0      1       0"
      ]
     },
     "execution_count": 66,
     "metadata": {},
     "output_type": "execute_result"
    }
   ],
   "source": [
    "## Reading data\n",
    "RAW_COUNTIES_FILENAME = 'us-counties.csv'\n",
    "POLICIES_FILENAME = 'earliestpolicy_08042020.csv'\n",
    "raw_counties = pd.read_csv(RAW_COUNTIES_FILENAME)\n",
    "raw_policies = pd.read_csv(POLICIES_FILENAME)[['fips','policy_date']]\n",
    "raw_counties.head()"
   ]
  },
  {
   "cell_type": "code",
   "execution_count": 69,
   "metadata": {},
   "outputs": [
    {
     "name": "stdout",
     "output_type": "stream",
     "text": [
      "             date               county     state     fips        cases  \\\n",
      "982    2020-03-09  Virginia Beach city  Virginia  51810.0    38.142857   \n",
      "1145   2020-03-10  Virginia Beach city  Virginia  51810.0    32.571429   \n",
      "1344   2020-03-11  Virginia Beach city  Virginia  51810.0    26.428571   \n",
      "1596   2020-03-12  Virginia Beach city  Virginia  51810.0    20.285714   \n",
      "1906   2020-03-13  Virginia Beach city  Virginia  51810.0    14.142857   \n",
      "...           ...                  ...       ...      ...          ...   \n",
      "537513 2020-09-15  Virginia Beach city  Virginia  51810.0  6413.857143   \n",
      "540750 2020-09-16  Virginia Beach city  Virginia  51810.0  6443.857143   \n",
      "543986 2020-09-17  Virginia Beach city  Virginia  51810.0  6473.571429   \n",
      "547223 2020-09-18  Virginia Beach city  Virginia  51810.0  6506.142857   \n",
      "550462 2020-09-19  Virginia Beach city  Virginia  51810.0  6534.571429   \n",
      "\n",
      "        deaths  new_cases        R0  \n",
      "982          0        NaN       NaN  \n",
      "1145         0  -5.571429       NaN  \n",
      "1344         0  -6.142857  1.102564  \n",
      "1596         0  -6.142857  1.000000  \n",
      "1906         0  -6.142857  1.000000  \n",
      "...        ...        ...       ...  \n",
      "537513      74  42.285714  1.156250  \n",
      "540750      76  30.000000  0.709459  \n",
      "543986      78  29.714286  0.990476  \n",
      "547223      78  32.571429  1.096154  \n",
      "550462      79  28.428571  0.872807  \n",
      "\n",
      "[195 rows x 8 columns]\n"
     ]
    }
   ],
   "source": [
    "## Calculating R0 values\n",
    "raw_counties['date'] = pd.to_datetime(raw_counties['date'])\n",
    "sorted_counties = raw_counties.sort_values(by=['county','state','date'])\n",
    "sorted_counties['cases'] = sorted_counties['cases'].rolling(window=7).mean()\n",
    "sorted_counties['new_cases'] = sorted_counties['cases'].diff() \n",
    "diff_mask = (sorted_counties['county'] != sorted_counties['county'].shift(1)) & (sorted_counties['state'] != sorted_counties['state'].shift(1))\n",
    "sorted_counties['new_cases'] = sorted_counties['new_cases'].where(~diff_mask, np.nan)\n",
    "sorted_counties['R0']= sorted_counties.new_cases / sorted_counties.new_cases.shift()\n",
    "print(sorted_counties[sorted_counties['county']=='Virginia Beach city'])\n",
    "sorted_counties = sorted_counties.drop(columns=['deaths','cases'])"
   ]
  },
  {
   "cell_type": "code",
   "execution_count": 50,
   "metadata": {},
   "outputs": [],
   "source": [
    "## Adding Mandate Policy date\n",
    "policy_dates = [dt.datetime.strptime(date,'%m-%d-%Y') if isinstance(date,str) else None for date in  raw_policies.policy_date ]\n",
    "fips_2_dates = dict(zip(raw_policies.fips,policy_dates))\n",
    "sorted_counties['policy_date']= sorted_counties['fips'].map(fips_2_dates)"
   ]
  },
  {
   "cell_type": "code",
   "execution_count": 52,
   "metadata": {},
   "outputs": [],
   "source": [
    "## Adding county population data\n",
    "pop_data = pd.read_csv('county_populations.csv')\n",
    "pop_data['county'] = pop_data['county'].str.replace('County','')\n",
    "all_counties = pd.merge(sorted_counties,pop_data,how='inner',on=['state','county'])\n",
    "filtered_counties = all_counties[all_counties['population'] > 100000]"
   ]
  },
  {
   "cell_type": "code",
   "execution_count": 53,
   "metadata": {},
   "outputs": [],
   "source": [
    "## Creating before and after mandate dataframes\n",
    "filtered_counties = filtered_counties.dropna()\n",
    "after_mandate = filtered_counties[filtered_counties.apply(lambda x: x['date'] > x['policy_date'] + relativedelta(days=+14) and x['date'] < x['policy_date'] + relativedelta(days=+44), axis=1)] \\\n",
    ".replace([np.inf, -np.inf], np.nan).dropna()\n",
    "before_mandate = filtered_counties[filtered_counties.apply(lambda x: x['date'] < x['policy_date'] and x['date'] > x['policy_date'] + relativedelta(days=-30), axis=1)] \\\n",
    ".replace([np.inf, -np.inf], np.nan).dropna()\n"
   ]
  },
  {
   "cell_type": "code",
   "execution_count": 54,
   "metadata": {},
   "outputs": [
    {
     "name": "stdout",
     "output_type": "stream",
     "text": [
      "            date               county     state     fips  new_cases        R0  \\\n",
      "260   2020-04-30      Alexandria city  Virginia  51510.0       54.0  1.148936   \n",
      "261   2020-05-01      Alexandria city  Virginia  51510.0       48.0  0.888889   \n",
      "262   2020-05-02      Alexandria city  Virginia  51510.0       46.0  0.958333   \n",
      "263   2020-05-03      Alexandria city  Virginia  51510.0       51.0  1.108696   \n",
      "264   2020-05-04      Alexandria city  Virginia  51510.0       41.0  0.803922   \n",
      "...          ...                  ...       ...      ...        ...       ...   \n",
      "11289 2020-05-24  Virginia Beach city  Virginia  51810.0        5.0  0.714286   \n",
      "11290 2020-05-25  Virginia Beach city  Virginia  51810.0       15.0  3.000000   \n",
      "11291 2020-05-26  Virginia Beach city  Virginia  51810.0       20.0  1.333333   \n",
      "11292 2020-05-27  Virginia Beach city  Virginia  51810.0        8.0  0.400000   \n",
      "11293 2020-05-28  Virginia Beach city  Virginia  51810.0       16.0  2.000000   \n",
      "\n",
      "      policy_date  population  \n",
      "260    2020-05-29      159428  \n",
      "261    2020-05-29      159428  \n",
      "262    2020-05-29      159428  \n",
      "263    2020-05-29      159428  \n",
      "264    2020-05-29      159428  \n",
      "...           ...         ...  \n",
      "11289  2020-05-29      449974  \n",
      "11290  2020-05-29      449974  \n",
      "11291  2020-05-29      449974  \n",
      "11292  2020-05-29      449974  \n",
      "11293  2020-05-29      449974  \n",
      "\n",
      "[370 rows x 8 columns]\n",
      "            date               county     state     fips  new_cases        R0  \\\n",
      "304   2020-06-13      Alexandria city  Virginia  51510.0        6.0  6.000000   \n",
      "305   2020-06-14      Alexandria city  Virginia  51510.0       17.0  2.833333   \n",
      "306   2020-06-15      Alexandria city  Virginia  51510.0        9.0  0.529412   \n",
      "307   2020-06-16      Alexandria city  Virginia  51510.0        8.0  0.888889   \n",
      "308   2020-06-17      Alexandria city  Virginia  51510.0        7.0  0.875000   \n",
      "...          ...                  ...       ...      ...        ...       ...   \n",
      "11333 2020-07-07  Virginia Beach city  Virginia  51810.0       63.0  1.500000   \n",
      "11334 2020-07-08  Virginia Beach city  Virginia  51810.0       65.0  1.031746   \n",
      "11335 2020-07-09  Virginia Beach city  Virginia  51810.0       27.0  0.415385   \n",
      "11336 2020-07-10  Virginia Beach city  Virginia  51810.0      116.0  4.296296   \n",
      "11337 2020-07-11  Virginia Beach city  Virginia  51810.0       96.0  0.827586   \n",
      "\n",
      "      policy_date  population  \n",
      "304    2020-05-29      159428  \n",
      "305    2020-05-29      159428  \n",
      "306    2020-05-29      159428  \n",
      "307    2020-05-29      159428  \n",
      "308    2020-05-29      159428  \n",
      "...           ...         ...  \n",
      "11333  2020-05-29      449974  \n",
      "11334  2020-05-29      449974  \n",
      "11335  2020-05-29      449974  \n",
      "11336  2020-05-29      449974  \n",
      "11337  2020-05-29      449974  \n",
      "\n",
      "[376 rows x 8 columns]\n"
     ]
    }
   ],
   "source": [
    "print(before_mandate)\n",
    "print(after_mandate)"
   ]
  },
  {
   "cell_type": "code",
   "execution_count": 60,
   "metadata": {},
   "outputs": [],
   "source": [
    "after_mandate_avg = after_mandate.drop(columns=['date','policy_date']).groupby(['state','county','fips']).mean()\n",
    "before_mandate_avg = before_mandate.drop(columns=['date','policy_date']).groupby(['state','county','fips']).mean()"
   ]
  },
  {
   "cell_type": "code",
   "execution_count": 61,
   "metadata": {},
   "outputs": [],
   "source": [
    "condensed = pd.merge(before_mandate_avg,after_mandate_avg,how='inner',on=['state','county','fips'],suffixes=('_b','_a')).dropna()\n",
    "pd.options.display.max_colwidth = 500\n",
    "condensed = condensed[(condensed['new_cases_b'] > 40) & (condensed['new_cases_a'] > 40)]"
   ]
  },
  {
   "cell_type": "code",
   "execution_count": 62,
   "metadata": {},
   "outputs": [
    {
     "data": {
      "text/plain": [
       "Ttest_relResult(statistic=0.9130014034588766, pvalue=0.4576191436506212)"
      ]
     },
     "execution_count": 62,
     "metadata": {},
     "output_type": "execute_result"
    }
   ],
   "source": [
    "ttest_rel(condensed['R0_b'], condensed['R0_a'])"
   ]
  },
  {
   "cell_type": "code",
   "execution_count": 63,
   "metadata": {},
   "outputs": [
    {
     "name": "stdout",
     "output_type": "stream",
     "text": [
      "R0_b    1.291558\n",
      "R0_a    1.164865\n",
      "dtype: float64\n"
     ]
    }
   ],
   "source": [
    "print(condensed[['R0_b','R0_a']].mean())"
   ]
  },
  {
   "cell_type": "code",
   "execution_count": null,
   "metadata": {},
   "outputs": [],
   "source": []
  },
  {
   "cell_type": "code",
   "execution_count": null,
   "metadata": {},
   "outputs": [],
   "source": []
  }
 ],
 "metadata": {
  "kernelspec": {
   "display_name": "Python 3",
   "language": "python",
   "name": "python3"
  },
  "language_info": {
   "codemirror_mode": {
    "name": "ipython",
    "version": 3
   },
   "file_extension": ".py",
   "mimetype": "text/x-python",
   "name": "python",
   "nbconvert_exporter": "python",
   "pygments_lexer": "ipython3",
   "version": "3.8.5"
  }
 },
 "nbformat": 4,
 "nbformat_minor": 4
}
